{
 "cells": [
  {
   "cell_type": "code",
   "execution_count": 1,
   "metadata": {
    "collapsed": true
   },
   "outputs": [],
   "source": [
    "%load_ext rpy2.ipython\n",
    "import pandas as pd\n",
    "df = pd.DataFrame({\n",
    "    'cups_of_coffee': [0, 1, 2, 3, 4, 5, 6, 7, 8, 9],\n",
    "    'productivity': [2, 5, 6, 8, 9, 8, 0, 1, 0, -1]\n",
    "})"
   ]
  },
  {
   "cell_type": "code",
   "execution_count": 2,
   "outputs": [
    {
     "name": "stderr",
     "output_type": "stream",
     "text": [
      "R[write to console]: also installing the dependencies ‘lattice’, ‘colorspace’, ‘utf8’, ‘nlme’, ‘Matrix’, ‘farver’, ‘labeling’, ‘munsell’, ‘R6’, ‘RColorBrewer’, ‘viridisLite’, ‘fansi’, ‘magrittr’, ‘pillar’, ‘pkgconfig’, ‘cli’, ‘glue’, ‘gtable’, ‘isoband’, ‘lifecycle’, ‘MASS’, ‘mgcv’, ‘rlang’, ‘scales’, ‘tibble’, ‘vctrs’, ‘withr’\n",
      "\n",
      "\n",
      "R[write to console]: Updating HTML index of packages in '.Library'\n",
      "\n",
      "R[write to console]: Making 'packages.html' ...\n",
      "R[write to console]:  done\n",
      "\n",
      "R[write to console]: Error in library(ggplot2) : there is no package called ‘ggplot2’\n",
      "\n",
      "R[write to console]: In addition: \n",
      "R[write to console]: There were 21 warnings (use warnings() to see them)\n",
      "R[write to console]: \n",
      "\n"
     ]
    },
    {
     "name": "stdout",
     "output_type": "stream",
     "text": [
      "\n",
      "Error in library(ggplot2) : there is no package called ‘ggplot2’\n"
     ]
    },
    {
     "ename": "RInterpreterError",
     "evalue": "Failed to parse and evaluate line '# import df from global environment\\n# make default figure size 5 by 5 inches with 200 dpi resolution\\n\\ninstall.packages(\"ggplot2\", repos=\\'http://cran.us.r-project.org\\', quiet=TRUE)\\nlibrary(ggplot2)\\nggplot(df, aes(x=cups_of_coffee, y=productivity)) + geom_line()\\n'.\nR error message: 'Error in library(ggplot2) : there is no package called ‘ggplot2’'",
     "output_type": "error",
     "traceback": [
      "\u001B[0;31m---------------------------------------------------------------------------\u001B[0m",
      "\u001B[0;31mRRuntimeError\u001B[0m                             Traceback (most recent call last)",
      "File \u001B[0;32m~/opt/anaconda3/envs/prof_dev_notes/lib/python3.10/site-packages/rpy2/ipython/rmagic.py:331\u001B[0m, in \u001B[0;36mRMagics.eval\u001B[0;34m(self, code)\u001B[0m\n\u001B[1;32m    329\u001B[0m \u001B[38;5;28;01mtry\u001B[39;00m:\n\u001B[1;32m    330\u001B[0m     \u001B[38;5;66;03m# Need the newline in case the last line in code is a comment.\u001B[39;00m\n\u001B[0;32m--> 331\u001B[0m     value, visible \u001B[38;5;241m=\u001B[39m \u001B[43mro\u001B[49m\u001B[38;5;241;43m.\u001B[39;49m\u001B[43mr\u001B[49m\u001B[43m(\u001B[49m\u001B[38;5;124;43m\"\u001B[39;49m\u001B[38;5;124;43mwithVisible(\u001B[39;49m\u001B[38;5;124;43m{\u001B[39;49m\u001B[38;5;132;43;01m%s\u001B[39;49;00m\u001B[38;5;130;43;01m\\n\u001B[39;49;00m\u001B[38;5;124;43m})\u001B[39;49m\u001B[38;5;124;43m\"\u001B[39;49m\u001B[43m \u001B[49m\u001B[38;5;241;43m%\u001B[39;49m\u001B[43m \u001B[49m\u001B[43mcode\u001B[49m\u001B[43m)\u001B[49m\n\u001B[1;32m    332\u001B[0m \u001B[38;5;28;01mexcept\u001B[39;00m (ri\u001B[38;5;241m.\u001B[39membedded\u001B[38;5;241m.\u001B[39mRRuntimeError, \u001B[38;5;167;01mValueError\u001B[39;00m) \u001B[38;5;28;01mas\u001B[39;00m exception:\n\u001B[1;32m    333\u001B[0m     \u001B[38;5;66;03m# Otherwise next return seems to have copy of error.\u001B[39;00m\n",
      "File \u001B[0;32m~/opt/anaconda3/envs/prof_dev_notes/lib/python3.10/site-packages/rpy2/robjects/__init__.py:459\u001B[0m, in \u001B[0;36mR.__call__\u001B[0;34m(self, string)\u001B[0m\n\u001B[1;32m    458\u001B[0m p \u001B[38;5;241m=\u001B[39m rinterface\u001B[38;5;241m.\u001B[39mparse(string)\n\u001B[0;32m--> 459\u001B[0m res \u001B[38;5;241m=\u001B[39m \u001B[38;5;28;43mself\u001B[39;49m\u001B[38;5;241;43m.\u001B[39;49m\u001B[43meval\u001B[49m\u001B[43m(\u001B[49m\u001B[43mp\u001B[49m\u001B[43m)\u001B[49m\n\u001B[1;32m    460\u001B[0m \u001B[38;5;28;01mreturn\u001B[39;00m conversion\u001B[38;5;241m.\u001B[39mget_conversion()\u001B[38;5;241m.\u001B[39mrpy2py(res)\n",
      "File \u001B[0;32m~/opt/anaconda3/envs/prof_dev_notes/lib/python3.10/site-packages/rpy2/robjects/functions.py:204\u001B[0m, in \u001B[0;36mSignatureTranslatedFunction.__call__\u001B[0;34m(self, *args, **kwargs)\u001B[0m\n\u001B[1;32m    203\u001B[0m         kwargs[r_k] \u001B[38;5;241m=\u001B[39m v\n\u001B[0;32m--> 204\u001B[0m \u001B[38;5;28;01mreturn\u001B[39;00m (\u001B[38;5;28;43msuper\u001B[39;49m\u001B[43m(\u001B[49m\u001B[43mSignatureTranslatedFunction\u001B[49m\u001B[43m,\u001B[49m\u001B[43m \u001B[49m\u001B[38;5;28;43mself\u001B[39;49m\u001B[43m)\u001B[49m\n\u001B[1;32m    205\u001B[0m \u001B[43m        \u001B[49m\u001B[38;5;241;43m.\u001B[39;49m\u001B[38;5;21;43m__call__\u001B[39;49m\u001B[43m(\u001B[49m\u001B[38;5;241;43m*\u001B[39;49m\u001B[43margs\u001B[49m\u001B[43m,\u001B[49m\u001B[43m \u001B[49m\u001B[38;5;241;43m*\u001B[39;49m\u001B[38;5;241;43m*\u001B[39;49m\u001B[43mkwargs\u001B[49m\u001B[43m)\u001B[49m)\n",
      "File \u001B[0;32m~/opt/anaconda3/envs/prof_dev_notes/lib/python3.10/site-packages/rpy2/robjects/functions.py:127\u001B[0m, in \u001B[0;36mFunction.__call__\u001B[0;34m(self, *args, **kwargs)\u001B[0m\n\u001B[1;32m    126\u001B[0m         new_kwargs[k] \u001B[38;5;241m=\u001B[39m cv\u001B[38;5;241m.\u001B[39mpy2rpy(v)\n\u001B[0;32m--> 127\u001B[0m res \u001B[38;5;241m=\u001B[39m \u001B[38;5;28;43msuper\u001B[39;49m\u001B[43m(\u001B[49m\u001B[43mFunction\u001B[49m\u001B[43m,\u001B[49m\u001B[43m \u001B[49m\u001B[38;5;28;43mself\u001B[39;49m\u001B[43m)\u001B[49m\u001B[38;5;241;43m.\u001B[39;49m\u001B[38;5;21;43m__call__\u001B[39;49m\u001B[43m(\u001B[49m\u001B[38;5;241;43m*\u001B[39;49m\u001B[43mnew_args\u001B[49m\u001B[43m,\u001B[49m\u001B[43m \u001B[49m\u001B[38;5;241;43m*\u001B[39;49m\u001B[38;5;241;43m*\u001B[39;49m\u001B[43mnew_kwargs\u001B[49m\u001B[43m)\u001B[49m\n\u001B[1;32m    128\u001B[0m res \u001B[38;5;241m=\u001B[39m cv\u001B[38;5;241m.\u001B[39mrpy2py(res)\n",
      "File \u001B[0;32m~/opt/anaconda3/envs/prof_dev_notes/lib/python3.10/site-packages/rpy2/rinterface_lib/conversion.py:45\u001B[0m, in \u001B[0;36m_cdata_res_to_rinterface.<locals>._\u001B[0;34m(*args, **kwargs)\u001B[0m\n\u001B[1;32m     44\u001B[0m \u001B[38;5;28;01mdef\u001B[39;00m \u001B[38;5;21m_\u001B[39m(\u001B[38;5;241m*\u001B[39margs, \u001B[38;5;241m*\u001B[39m\u001B[38;5;241m*\u001B[39mkwargs):\n\u001B[0;32m---> 45\u001B[0m     cdata \u001B[38;5;241m=\u001B[39m \u001B[43mfunction\u001B[49m\u001B[43m(\u001B[49m\u001B[38;5;241;43m*\u001B[39;49m\u001B[43margs\u001B[49m\u001B[43m,\u001B[49m\u001B[43m \u001B[49m\u001B[38;5;241;43m*\u001B[39;49m\u001B[38;5;241;43m*\u001B[39;49m\u001B[43mkwargs\u001B[49m\u001B[43m)\u001B[49m\n\u001B[1;32m     46\u001B[0m     \u001B[38;5;66;03m# TODO: test cdata is of the expected CType\u001B[39;00m\n",
      "File \u001B[0;32m~/opt/anaconda3/envs/prof_dev_notes/lib/python3.10/site-packages/rpy2/rinterface.py:815\u001B[0m, in \u001B[0;36mSexpClosure.__call__\u001B[0;34m(self, *args, **kwargs)\u001B[0m\n\u001B[1;32m    814\u001B[0m     \u001B[38;5;28;01mif\u001B[39;00m error_occured[\u001B[38;5;241m0\u001B[39m]:\n\u001B[0;32m--> 815\u001B[0m         \u001B[38;5;28;01mraise\u001B[39;00m embedded\u001B[38;5;241m.\u001B[39mRRuntimeError(_rinterface\u001B[38;5;241m.\u001B[39m_geterrmessage())\n\u001B[1;32m    816\u001B[0m \u001B[38;5;28;01mreturn\u001B[39;00m res\n",
      "\u001B[0;31mRRuntimeError\u001B[0m: Error in library(ggplot2) : there is no package called ‘ggplot2’\n",
      "\nDuring handling of the above exception, another exception occurred:\n",
      "\u001B[0;31mRInterpreterError\u001B[0m                         Traceback (most recent call last)",
      "Cell \u001B[0;32mIn[2], line 1\u001B[0m\n\u001B[0;32m----> 1\u001B[0m \u001B[43mget_ipython\u001B[49m\u001B[43m(\u001B[49m\u001B[43m)\u001B[49m\u001B[38;5;241;43m.\u001B[39;49m\u001B[43mrun_cell_magic\u001B[49m\u001B[43m(\u001B[49m\u001B[38;5;124;43m'\u001B[39;49m\u001B[38;5;124;43mR\u001B[39;49m\u001B[38;5;124;43m'\u001B[39;49m\u001B[43m,\u001B[49m\u001B[43m \u001B[49m\u001B[38;5;124;43m'\u001B[39;49m\u001B[38;5;124;43m-i df -w 5 -h 5 --units in -r 200\u001B[39;49m\u001B[38;5;124;43m'\u001B[39;49m\u001B[43m,\u001B[49m\u001B[43m \u001B[49m\u001B[38;5;124;43m'\u001B[39;49m\u001B[38;5;124;43m# import df from global environment\u001B[39;49m\u001B[38;5;130;43;01m\\n\u001B[39;49;00m\u001B[38;5;124;43m# make default figure size 5 by 5 inches with 200 dpi resolution\u001B[39;49m\u001B[38;5;130;43;01m\\n\u001B[39;49;00m\u001B[38;5;130;43;01m\\n\u001B[39;49;00m\u001B[38;5;124;43minstall.packages(\u001B[39;49m\u001B[38;5;124;43m\"\u001B[39;49m\u001B[38;5;124;43mggplot2\u001B[39;49m\u001B[38;5;124;43m\"\u001B[39;49m\u001B[38;5;124;43m, repos=\u001B[39;49m\u001B[38;5;130;43;01m\\'\u001B[39;49;00m\u001B[38;5;124;43mhttp://cran.us.r-project.org\u001B[39;49m\u001B[38;5;130;43;01m\\'\u001B[39;49;00m\u001B[38;5;124;43m, quiet=TRUE)\u001B[39;49m\u001B[38;5;130;43;01m\\n\u001B[39;49;00m\u001B[38;5;124;43mlibrary(ggplot2)\u001B[39;49m\u001B[38;5;130;43;01m\\n\u001B[39;49;00m\u001B[38;5;124;43mggplot(df, aes(x=cups_of_coffee, y=productivity)) + geom_line()\u001B[39;49m\u001B[38;5;130;43;01m\\n\u001B[39;49;00m\u001B[38;5;124;43m'\u001B[39;49m\u001B[43m)\u001B[49m\n",
      "File \u001B[0;32m~/opt/anaconda3/envs/prof_dev_notes/lib/python3.10/site-packages/IPython/core/interactiveshell.py:2417\u001B[0m, in \u001B[0;36mInteractiveShell.run_cell_magic\u001B[0;34m(self, magic_name, line, cell)\u001B[0m\n\u001B[1;32m   2415\u001B[0m \u001B[38;5;28;01mwith\u001B[39;00m \u001B[38;5;28mself\u001B[39m\u001B[38;5;241m.\u001B[39mbuiltin_trap:\n\u001B[1;32m   2416\u001B[0m     args \u001B[38;5;241m=\u001B[39m (magic_arg_s, cell)\n\u001B[0;32m-> 2417\u001B[0m     result \u001B[38;5;241m=\u001B[39m \u001B[43mfn\u001B[49m\u001B[43m(\u001B[49m\u001B[38;5;241;43m*\u001B[39;49m\u001B[43margs\u001B[49m\u001B[43m,\u001B[49m\u001B[43m \u001B[49m\u001B[38;5;241;43m*\u001B[39;49m\u001B[38;5;241;43m*\u001B[39;49m\u001B[43mkwargs\u001B[49m\u001B[43m)\u001B[49m\n\u001B[1;32m   2418\u001B[0m \u001B[38;5;28;01mreturn\u001B[39;00m result\n",
      "File \u001B[0;32m~/opt/anaconda3/envs/prof_dev_notes/lib/python3.10/site-packages/rpy2/ipython/rmagic.py:868\u001B[0m, in \u001B[0;36mRMagics.R\u001B[0;34m(self, line, cell, local_ns)\u001B[0m\n\u001B[1;32m    866\u001B[0m     \u001B[38;5;28;01mif\u001B[39;00m \u001B[38;5;129;01mnot\u001B[39;00m e\u001B[38;5;241m.\u001B[39mstdout\u001B[38;5;241m.\u001B[39mendswith(e\u001B[38;5;241m.\u001B[39merr):\n\u001B[1;32m    867\u001B[0m         \u001B[38;5;28mprint\u001B[39m(e\u001B[38;5;241m.\u001B[39merr)\n\u001B[0;32m--> 868\u001B[0m     \u001B[38;5;28;01mraise\u001B[39;00m e\n\u001B[1;32m    869\u001B[0m \u001B[38;5;28;01mfinally\u001B[39;00m:\n\u001B[1;32m    870\u001B[0m     \u001B[38;5;28;01mif\u001B[39;00m \u001B[38;5;28mself\u001B[39m\u001B[38;5;241m.\u001B[39mdevice \u001B[38;5;129;01min\u001B[39;00m [\u001B[38;5;124m'\u001B[39m\u001B[38;5;124mpng\u001B[39m\u001B[38;5;124m'\u001B[39m, \u001B[38;5;124m'\u001B[39m\u001B[38;5;124msvg\u001B[39m\u001B[38;5;124m'\u001B[39m]:\n",
      "File \u001B[0;32m~/opt/anaconda3/envs/prof_dev_notes/lib/python3.10/site-packages/rpy2/ipython/rmagic.py:848\u001B[0m, in \u001B[0;36mRMagics.R\u001B[0;34m(self, line, cell, local_ns)\u001B[0m\n\u001B[1;32m    846\u001B[0m         return_output \u001B[38;5;241m=\u001B[39m \u001B[38;5;28;01mFalse\u001B[39;00m\n\u001B[1;32m    847\u001B[0m \u001B[38;5;28;01melse\u001B[39;00m:\n\u001B[0;32m--> 848\u001B[0m     text_result, result, visible \u001B[38;5;241m=\u001B[39m \u001B[38;5;28;43mself\u001B[39;49m\u001B[38;5;241;43m.\u001B[39;49m\u001B[43meval\u001B[49m\u001B[43m(\u001B[49m\u001B[43mcode\u001B[49m\u001B[43m)\u001B[49m\n\u001B[1;32m    849\u001B[0m     text_output \u001B[38;5;241m+\u001B[39m\u001B[38;5;241m=\u001B[39m text_result\n\u001B[1;32m    850\u001B[0m     \u001B[38;5;28;01mif\u001B[39;00m visible:\n",
      "File \u001B[0;32m~/opt/anaconda3/envs/prof_dev_notes/lib/python3.10/site-packages/rpy2/ipython/rmagic.py:335\u001B[0m, in \u001B[0;36mRMagics.eval\u001B[0;34m(self, code)\u001B[0m\n\u001B[1;32m    332\u001B[0m \u001B[38;5;28;01mexcept\u001B[39;00m (ri\u001B[38;5;241m.\u001B[39membedded\u001B[38;5;241m.\u001B[39mRRuntimeError, \u001B[38;5;167;01mValueError\u001B[39;00m) \u001B[38;5;28;01mas\u001B[39;00m exception:\n\u001B[1;32m    333\u001B[0m     \u001B[38;5;66;03m# Otherwise next return seems to have copy of error.\u001B[39;00m\n\u001B[1;32m    334\u001B[0m     warning_or_other_msg \u001B[38;5;241m=\u001B[39m \u001B[38;5;28mself\u001B[39m\u001B[38;5;241m.\u001B[39mflush()\n\u001B[0;32m--> 335\u001B[0m     \u001B[38;5;28;01mraise\u001B[39;00m RInterpreterError(code, \u001B[38;5;28mstr\u001B[39m(exception),\n\u001B[1;32m    336\u001B[0m                             warning_or_other_msg)\n\u001B[1;32m    337\u001B[0m text_output \u001B[38;5;241m=\u001B[39m \u001B[38;5;28mself\u001B[39m\u001B[38;5;241m.\u001B[39mflush()\n\u001B[1;32m    338\u001B[0m \u001B[38;5;28;01mreturn\u001B[39;00m text_output, value, visible[\u001B[38;5;241m0\u001B[39m]\n",
      "\u001B[0;31mRInterpreterError\u001B[0m: Failed to parse and evaluate line '# import df from global environment\\n# make default figure size 5 by 5 inches with 200 dpi resolution\\n\\ninstall.packages(\"ggplot2\", repos=\\'http://cran.us.r-project.org\\', quiet=TRUE)\\nlibrary(ggplot2)\\nggplot(df, aes(x=cups_of_coffee, y=productivity)) + geom_line()\\n'.\nR error message: 'Error in library(ggplot2) : there is no package called ‘ggplot2’'"
     ]
    }
   ],
   "source": [
    "%%R -i df -w 5 -h 5 --units in -r 200\n",
    "# import df from global environment\n",
    "# make default figure size 5 by 5 inches with 200 dpi resolution\n",
    "\n",
    "install.packages(\"ggplot2\", repos='http://cran.us.r-project.org', quiet=TRUE)\n",
    "library(ggplot2)\n",
    "ggplot(df, aes(x=cups_of_coffee, y=productivity)) + geom_line()"
   ],
   "metadata": {
    "collapsed": false
   }
  },
  {
   "cell_type": "code",
   "execution_count": null,
   "outputs": [],
   "source": [
    "%%R -i df -w 5 -h 5 --units in -r 200\n",
    "#replicate\n",
    "set.seed(110)\n",
    "sims = 1000\n",
    "\n",
    "\n",
    "#create vectors to track if it is sunny/if Anne goes to work\n",
    "sun = rep(0, sims)\n",
    "work = rep(0, sims)\n",
    "\n",
    "\n",
    "#run the loop\n",
    "for(i in 1:sims){\n",
    "\n",
    "  #flip to see what the weather is\n",
    "  weather = runif(1)\n",
    "\n",
    "  #flip to see if Anne goes to work\n",
    "  go = runif(1)\n",
    "\n",
    "  #the case where it is sunny\n",
    "  if(weather <= .6){\n",
    "\n",
    "    #mark that it was sunny\n",
    "    sun[i] = 1\n",
    "\n",
    "    #Anne goes to work with probability .95 in this case\n",
    "    if(go <= .95){\n",
    "      work[i] = 1\n",
    "    }\n",
    "  }\n",
    "\n",
    "  #the case where it is rainy\n",
    "  if(weather > .4){\n",
    "\n",
    "    #Anne goes to work with probability .3 in this case\n",
    "    if(go <= .3){\n",
    "      work[i] = 1\n",
    "    }\n",
    "  }\n",
    "}\n",
    "\n",
    "#we should get .6 for sun and .69 for work\n",
    "mean(sun); mean(work)"
   ],
   "metadata": {
    "collapsed": false
   }
  }
 ],
 "metadata": {
  "kernelspec": {
   "display_name": "Python 3",
   "language": "python",
   "name": "python3"
  },
  "language_info": {
   "codemirror_mode": {
    "name": "ipython",
    "version": 2
   },
   "file_extension": ".py",
   "mimetype": "text/x-python",
   "name": "python",
   "nbconvert_exporter": "python",
   "pygments_lexer": "ipython2",
   "version": "2.7.6"
  }
 },
 "nbformat": 4,
 "nbformat_minor": 0
}
